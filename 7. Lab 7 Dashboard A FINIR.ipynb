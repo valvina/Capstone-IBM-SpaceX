{
  "nbformat": 4,
  "nbformat_minor": 0,
  "metadata": {
    "colab": {
      "provenance": []
    },
    "kernelspec": {
      "name": "python3",
      "display_name": "Python 3"
    },
    "language_info": {
      "name": "python"
    }
  },
  "cells": [
    {
      "cell_type": "markdown",
      "source": [
        "# Lab 7 : Dashboard Application with Plotly Dash"
      ],
      "metadata": {
        "id": "0woMw4Czmn48"
      }
    },
    {
      "cell_type": "markdown",
      "source": [
        "This notebook shows the dashboard application.\n",
        "\n",
        "Here is my code:"
      ],
      "metadata": {
        "id": "qr8IZNR1meN2"
      }
    },
    {
      "cell_type": "code",
      "source": [
        "# Import required libraries\n",
        "import pandas as pd\n",
        "import dash\n",
        "import dash_html_components as html\n",
        "import dash_core_components as dcc\n",
        "from dash.dependencies import Input, Output\n",
        "import plotly.express as px\n",
        "\n",
        "# Read the airline data into pandas dataframe\n",
        "spacex_df = pd.read_csv(\"spacex_launch_dash.csv\")\n",
        "max_payload = spacex_df['Payload Mass (kg)'].max()\n",
        "min_payload = spacex_df['Payload Mass (kg)'].min()\n",
        "\n",
        "# Create a dash application\n",
        "app = dash.Dash(__name__)\n",
        "\n",
        "# Create an app layout\n",
        "app.layout = html.Div(children=[html.H1('SpaceX Launch Records Dashboard',\n",
        "                                        style={'textAlign': 'center', 'color': '#503D36',\n",
        "                                               'font-size': 40}),\n",
        "                                # TASK 1: Add a dropdown list to enable Launch Site selection\n",
        "                                # The default select value is for ALL sites\n",
        "                                # dcc.Dropdown(id='site-dropdown',...)\n",
        "                                dcc.Dropdown(id='site-dropdown',\n",
        "                                            options=[\n",
        "                                                     {'label': 'All Sites', 'value': 'ALL'},\n",
        "                                                     {'label': 'CCAFS LC-40', 'value': 'CCAFS LC-40'},\n",
        "                                                     {'label': 'CCAFS SLC-40', 'value': 'CCAFS SLC-40'},\n",
        "                                                     {'label': 'VAFB SLC-4E', 'value': 'VAFB SLC-4E'},\n",
        "                                                     {'label': 'KSC LC-39A', 'value': 'KSC LC-39A'},\n",
        "\n",
        "                                                    ],\n",
        "                                            value='ALL',\n",
        "                                            placeholder=\"Select a Launch Site here\",\n",
        "                                            searchable=True\n",
        "                                            ),\n",
        "                                html.Br(),\n",
        "\n",
        "                                # TASK 2: Add a pie chart to show the total successful launches count for all sites\n",
        "                                # If a specific launch site was selected, show the Success vs. Failed counts for the site\n",
        "                                html.Div(dcc.Graph(id='success-pie-chart')),\n",
        "                                html.Br(),\n",
        "\n",
        "                                html.P(\"Payload range (Kg):\"),\n",
        "                                # TASK 3: Add a slider to select payload range\n",
        "                                #dcc.RangeSlider(id='payload-slider',...)\n",
        "                                dcc.RangeSlider(id='payload-slider',\n",
        "                                                min=0,\n",
        "                                                max=10000,\n",
        "                                                step=1000,\n",
        "                                                value=[min_payload, max_payload]\n",
        "                                                ),\n",
        "\n",
        "                                # TASK 4: Add a scatter chart to show the correlation between payload and launch success\n",
        "                                html.Div(dcc.Graph(id='success-payload-scatter-chart')),\n",
        "                                ])\n",
        "\n",
        "# TASK 2:\n",
        "# Add a callback function for `site-dropdown` as input, `success-pie-chart` as output\n",
        "@app.callback(Output(component_id='success-pie-chart', component_property='figure'),\n",
        "              Input(component_id='site-dropdown', component_property='value'))\n",
        "\n",
        "def get_pie_chart(entered_site):\n",
        "    filtered_df = spacex_df\n",
        "    if entered_site == 'ALL':\n",
        "        fig = px.pie(data, values='class',\n",
        "        names='pie chart names',\n",
        "        title='title')\n",
        "        return fig\n",
        "    else:\n",
        "        # return the outcomes piechart for a selected site\n",
        "        filtered_df=spacex_df[spacex_df['Launch Site']== entered_site]\n",
        "        filtered_df=filtered_df.groupby(['Launch Site','class']).size().reset_index(name='class count')\n",
        "\n",
        "        #add success and failure outcoumes\n",
        "        fig=px.pie(filtered_df,values='class count',names='class',title=f\"Total Success Launches for site {entered_site}\")\n",
        "        return fig\n",
        "\n",
        "# TASK 4:\n",
        "# Add a callback function for `site-dropdown` and `payload-slider` as inputs, `success-payload-scatter-chart` as output\n",
        "@app.callback(Output(component_id='success-payload-scatter-chart',component_property='figure'),\n",
        "                [Input(component_id='site-dropdown',component_property='value'),\n",
        "                Input(component_id='payload-slider',component_property='value')])\n",
        "\n",
        "def scatter(entered_site,payload):\n",
        "    filtered_df = spacex_df[spacex_df['Payload Mass (kg)'].between(payload[0],payload[1])]\n",
        "\n",
        "    if entered_site=='ALL':\n",
        "        fig=px.scatter(filtered_df,x='Payload Mass (kg)',y='class',color='Booster Version Category',title='Correlation between Payload and Success for all sites')\n",
        "        return fig\n",
        "    else:\n",
        "        fig=px.scatter(filtered_df[filtered_df['Launch Site']==entered_site],x='Payload Mass (kg)',y='class',color='Booster Version Category',title=f\"Success count on Payload mass for site {entered_site}\")\n",
        "        return fig\n",
        "\n",
        "# Run the app\n",
        "if __name__ == '__main__':\n",
        "    app.run_server()"
      ],
      "metadata": {
        "id": "sbKBBZQVmck_"
      },
      "execution_count": null,
      "outputs": []
    },
    {
      "cell_type": "markdown",
      "source": [
        "## Answer these questions:"
      ],
      "metadata": {
        "id": "TDZ8Ylr_m3JE"
      }
    },
    {
      "cell_type": "markdown",
      "source": [
        "1.\tWhich site has the largest successful launches?\n",
        "\n",
        "\n",
        "2.\tWhich site has the highest launch success rate?\n",
        "    **KSC LC-39A : 76.9%**\n",
        "\n",
        "3.\tWhich payload range(s) has the highest launch success rate?\n",
        "    \n",
        "4.\tWhich payload range(s) has the lowest launch success rate?\n",
        "\n",
        "5.\tWhich F9 Booster version (v1.0, v1.1, FT, B4, B5, etc.) has the highest\n",
        "launch success rate?"
      ],
      "metadata": {
        "id": "2MUdyDrTm558"
      }
    }
  ]
}